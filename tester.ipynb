{
 "cells": [
  {
   "cell_type": "code",
   "execution_count": 1,
   "metadata": {},
   "outputs": [],
   "source": [
    "import stability_functions as sf\n",
    "import numpy as np\n",
    "import os\n",
    "import rebound\n",
    "import dill\n",
    "import sys\n",
    "import pandas as pd\n",
    "if not '../MLstability/generate_training_data' in sys.path:\n",
    "    sys.path.append('../MLstability/generate_training_data')\n",
    "from training_data_functions import ressummaryfeaturesxgb\n",
    "\n",
    "folderpath = '../MLstability'\n",
    "model = 'ressummaryfeaturesxgb_resonantAMD.pkl'\n",
    "model, features, featurefolder = dill.load(open(folderpath+'/models/'+model, \"rb\"))\n",
    "\n",
    "def stability_score(sim):\n",
    "    args = (10000, 1000) # (Norbits, Nout) Keep this fixed\n",
    "    return model.predict_proba(pd.DataFrame([ressummaryfeaturesxgb(sim, args)]))[:, 1][0]"
   ]
  },
  {
   "cell_type": "code",
   "execution_count": 2,
   "metadata": {},
   "outputs": [],
   "source": [
    "name = \"HR858_start_283.bin\""
   ]
  },
  {
   "cell_type": "code",
   "execution_count": 3,
   "metadata": {},
   "outputs": [
    {
     "name": "stderr",
     "output_type": "stream",
     "text": [
      "/storage/home/cjg66/miniconda3/lib/python3.7/site-packages/rebound/simulationarchive.py:138: RuntimeWarning: You have to reset function pointers after creating a reb_simulation struct with a binary file.\n",
      "  warnings.warn(message, RuntimeWarning)\n",
      "/storage/work/c/cjg66/Dan_research/celmech/celmech/andoyer.py:34: RuntimeWarning: invalid value encountered in sqrt\n",
      "  Xstarres = -0.5*np.sqrt(3.*Phiprime+2.)\n"
     ]
    },
    {
     "name": "stdout",
     "output_type": "stream",
     "text": [
      "0.86941016\n"
     ]
    },
    {
     "name": "stderr",
     "output_type": "stream",
     "text": [
      "../MLstability/generate_training_data/training_data_functions.py:408: RuntimeWarning: Degrees of freedom <= 0 for slice\n",
      "  var = [EM[:j].var() for j in range(len(EM))]\n",
      "/storage/home/cjg66/miniconda3/lib/python3.7/site-packages/numpy/core/_methods.py:110: RuntimeWarning: invalid value encountered in true_divide\n",
      "  arrmean, rcount, out=arrmean, casting='unsafe', subok=False)\n",
      "/storage/home/cjg66/miniconda3/lib/python3.7/site-packages/numpy/core/_methods.py:132: RuntimeWarning: invalid value encountered in double_scalars\n",
      "  ret = ret.dtype.type(ret / rcount)\n",
      "../MLstability/generate_training_data/training_data_functions.py:427: RuntimeWarning: Degrees of freedom <= 0 for slice\n",
      "  var = [Z[:j].var() for j in range(len(Z))]\n"
     ]
    }
   ],
   "source": [
    "sim = rebound.SimulationArchive(name)[0]\n",
    "score = stability_score(sim)\n",
    "print(score)"
   ]
  },
  {
   "cell_type": "code",
   "execution_count": 4,
   "metadata": {},
   "outputs": [
    {
     "name": "stdout",
     "output_type": "stream",
     "text": [
      "0.824654\n"
     ]
    }
   ],
   "source": [
    "sim = rebound.SimulationArchive(name)[0]\n",
    "score = stability_score(sim)\n",
    "print(score)"
   ]
  },
  {
   "cell_type": "code",
   "execution_count": 5,
   "metadata": {},
   "outputs": [
    {
     "name": "stdout",
     "output_type": "stream",
     "text": [
      "0.78519785\n"
     ]
    }
   ],
   "source": [
    "sim = rebound.SimulationArchive(name)[0]\n",
    "score = stability_score(sim)\n",
    "print(score)"
   ]
  },
  {
   "cell_type": "code",
   "execution_count": 6,
   "metadata": {},
   "outputs": [
    {
     "data": {
      "text/plain": [
       "False"
      ]
     },
     "execution_count": 6,
     "metadata": {},
     "output_type": "execute_result"
    }
   ],
   "source": [
    "sim_new = rebound.SimulationArchive(name)[0]\n",
    "sim_new_2 = rebound.SimulationArchive(name)[0]\n",
    "sim_new_2 == sim_new"
   ]
  },
  {
   "cell_type": "code",
   "execution_count": null,
   "metadata": {},
   "outputs": [],
   "source": []
  }
 ],
 "metadata": {
  "kernelspec": {
   "display_name": "Python 3",
   "language": "python",
   "name": "python3"
  },
  "language_info": {
   "codemirror_mode": {
    "name": "ipython",
    "version": 3
   },
   "file_extension": ".py",
   "mimetype": "text/x-python",
   "name": "python",
   "nbconvert_exporter": "python",
   "pygments_lexer": "ipython3",
   "version": "3.7.1"
  }
 },
 "nbformat": 4,
 "nbformat_minor": 2
}
