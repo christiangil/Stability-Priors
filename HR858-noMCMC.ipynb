{
 "cells": [
  {
   "cell_type": "markdown",
   "metadata": {},
   "source": [
    "REBOUND RV and Plotting function\n",
    "===================================="
   ]
  },
  {
   "cell_type": "code",
   "execution_count": null,
   "metadata": {},
   "outputs": [],
   "source": [
    "import stability_functions as sf\n",
    "import numpy as np\n",
    "import os\n",
    "\n",
    "# plotting\n",
    "import matplotlib\n",
    "import matplotlib.pyplot as plt\n",
    "%matplotlib inline "
   ]
  },
  {
   "cell_type": "markdown",
   "metadata": {},
   "source": [
    "Inserting planets from Vanderburg et al. 2019\n",
    "\n",
    "https://arxiv.org/abs/1905.05193"
   ]
  },
  {
   "cell_type": "code",
   "execution_count": null,
   "metadata": {},
   "outputs": [],
   "source": [
    "mb, mc, md = sf.draw_masses()"
   ]
  },
  {
   "cell_type": "code",
   "execution_count": null,
   "metadata": {},
   "outputs": [],
   "source": [
    "sim = sf.build_HR858(mb, mc, md)"
   ]
  },
  {
   "cell_type": "code",
   "execution_count": null,
   "metadata": {},
   "outputs": [],
   "source": [
    "stab_score = sf.stability_score(sim)\n",
    "print(stab_score)"
   ]
  },
  {
   "cell_type": "code",
   "execution_count": null,
   "metadata": {},
   "outputs": [],
   "source": [
    "if os.path.isfile(\"scores.npy\") and os.path.isfile(\"all_es.npy\"):\n",
    "    scores = np.load(\"scores.npy\")\n",
    "    all_es = np.load(\"all_es.npy\")\n",
    "    all_ms = np.load(\"all_ms.npy\")\n",
    "else:\n",
    "    scores = np.empty(0)\n",
    "    all_es = np.empty(0)\n",
    "    all_ms = np.empty(0)"
   ]
  },
  {
   "cell_type": "code",
   "execution_count": null,
   "metadata": {},
   "outputs": [],
   "source": [
    "for i in range(1):\n",
    "    sim, Ps, ms, es, incs = sf.build_HR858(mb, mc, md, return_extra=True)\n",
    "    score = sf.stability_score(sim)\n",
    "    scores = np.append(scores, score)\n",
    "    all_es = np.append(all_es, es)\n",
    "    all_ms = np.append(all_ms, ms)\n",
    "#     np.save(\"scores.npy\", scores)\n",
    "#     np.save(\"all_es.npy\", all_es)\n",
    "#     np.save(\"all_ms.npy\", all_ms)"
   ]
  },
  {
   "cell_type": "code",
   "execution_count": null,
   "metadata": {},
   "outputs": [],
   "source": [
    "scores = np.load(\"scores.npy\")\n",
    "all_es = np.load(\"all_es.npy\")"
   ]
  },
  {
   "cell_type": "code",
   "execution_count": null,
   "metadata": {},
   "outputs": [],
   "source": [
    "plt.hist(scores)"
   ]
  },
  {
   "cell_type": "code",
   "execution_count": null,
   "metadata": {},
   "outputs": [],
   "source": [
    "len(scores)"
   ]
  },
  {
   "cell_type": "code",
   "execution_count": null,
   "metadata": {},
   "outputs": [],
   "source": [
    "sum(scores>0.2)"
   ]
  },
  {
   "cell_type": "code",
   "execution_count": null,
   "metadata": {},
   "outputs": [],
   "source": [
    "plt.scatter(all_es[0::3], scores)"
   ]
  },
  {
   "cell_type": "code",
   "execution_count": null,
   "metadata": {},
   "outputs": [],
   "source": [
    "plt.hist(all_es[0::3][scores>0.7])"
   ]
  },
  {
   "cell_type": "code",
   "execution_count": null,
   "metadata": {},
   "outputs": [],
   "source": [
    "kernel = scipy.stats.gaussian_kde(all_es[0::3][scores>0.7])\n",
    "kernel2 = scipy.stats.gaussian_kde(all_es[0::3])\n",
    "x = np.linspace(0, 0.3, 1000)\n",
    "plt.plot(x, kernel(x)/kernel2(x))"
   ]
  },
  {
   "cell_type": "code",
   "execution_count": null,
   "metadata": {},
   "outputs": [],
   "source": [
    "plt.scatter(all_es[1::3], scores)"
   ]
  },
  {
   "cell_type": "code",
   "execution_count": null,
   "metadata": {},
   "outputs": [],
   "source": [
    "plt.hist(all_es[1::3][scores>0.7])"
   ]
  },
  {
   "cell_type": "code",
   "execution_count": null,
   "metadata": {},
   "outputs": [],
   "source": [
    "kernel = scipy.stats.gaussian_kde(all_es[1::3][scores>0.7])\n",
    "kernel2 = scipy.stats.gaussian_kde(all_es[1::3])\n",
    "x = np.linspace(0, 0.19, 1000)\n",
    "plt.plot(x, kernel(x) / kernel2(x))"
   ]
  },
  {
   "cell_type": "code",
   "execution_count": null,
   "metadata": {},
   "outputs": [],
   "source": [
    "plt.scatter(all_es[2::3], scores)"
   ]
  },
  {
   "cell_type": "code",
   "execution_count": null,
   "metadata": {},
   "outputs": [],
   "source": [
    "plt.hist(all_es[2::3][scores>0.7])"
   ]
  },
  {
   "cell_type": "code",
   "execution_count": null,
   "metadata": {},
   "outputs": [],
   "source": [
    "kernel = scipy.stats.gaussian_kde(all_es[2::3][scores>0.7])\n",
    "kernel2 = scipy.stats.gaussian_kde(all_es[2::3])\n",
    "x = np.linspace(0, 0.28, 1000)\n",
    "plt.plot(x, kernel(x)/kernel2(x))"
   ]
  },
  {
   "cell_type": "code",
   "execution_count": null,
   "metadata": {},
   "outputs": [],
   "source": []
  }
 ],
 "metadata": {
  "kernelspec": {
   "display_name": "Python 3",
   "language": "python",
   "name": "python3"
  },
  "language_info": {
   "codemirror_mode": {
    "name": "ipython",
    "version": 3
   },
   "file_extension": ".py",
   "mimetype": "text/x-python",
   "name": "python",
   "nbconvert_exporter": "python",
   "pygments_lexer": "ipython3",
   "version": "3.7.1"
  }
 },
 "nbformat": 4,
 "nbformat_minor": 2
}
