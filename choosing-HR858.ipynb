{
 "cells": [
  {
   "cell_type": "code",
   "execution_count": 1,
   "metadata": {},
   "outputs": [],
   "source": [
    "import stability_functions as sf\n",
    "import numpy as np\n",
    "import os\n",
    "import time\n",
    "import sys"
   ]
  },
  {
   "cell_type": "code",
   "execution_count": 2,
   "metadata": {},
   "outputs": [],
   "source": [
    "mb, mc, md = sf.draw_masses()"
   ]
  },
  {
   "cell_type": "code",
   "execution_count": 21,
   "metadata": {},
   "outputs": [
    {
     "name": "stdout",
     "output_type": "stream",
     "text": [
      "[0.00981756 0.01635418 0.03074842]\n",
      "[5.16226975 6.93461991 7.30626981]\n",
      "[0.14883341 0.04432842 0.1204491 ]\n",
      "[1.51673072 1.50197376 1.52827028]\n"
     ]
    }
   ],
   "source": [
    "# id_ = int(sys.argv[1]) - 1\n",
    "id_ = 0\n",
    "\n",
    "scores = np.load(\"scores.npy\")\n",
    "all_es = np.load(\"all_es.npy\")\n",
    "all_ms = np.load(\"all_ms.npy\")\n",
    "\n",
    "target = 0.8\n",
    "\n",
    "amount = 10\n",
    "inds = np.argpartition(np.abs(scores - target), amount)\n",
    "# print(scores[inds[0:amount]])\n",
    "ind = inds[id_]\n",
    "\n",
    "# ind = np.argmin(np.abs(scores - target))\n",
    "\n",
    "# sorted_scores = np.sort(scores)\n",
    "# ind = np.where(sorted_scores[-2]==scores)[0][0]\n",
    "\n",
    "sim, Ps, ms, es, incs = sf.build_chosen_HR858(all_ms[ind:ind+3], all_es[ind:ind+3], return_extra=True)\n",
    "# score = sf.stability_score(sim)\n",
    "\n",
    "# print(score, Ps, ms, es, incs, sep=\"\\n\")\n",
    "print(Ps, ms, es, incs, sep=\"\\n\")"
   ]
  },
  {
   "cell_type": "code",
   "execution_count": null,
   "metadata": {},
   "outputs": [],
   "source": []
  },
  {
   "cell_type": "code",
   "execution_count": 22,
   "metadata": {},
   "outputs": [
    {
     "name": "stdout",
     "output_type": "stream",
     "text": [
      "starting simulation\n",
      "finished simulation\n",
      "1000 orbits completed\n",
      "100.00% of max_orbits\n",
      "took 0 s\n"
     ]
    }
   ],
   "source": [
    "system = \"HR858\"\n",
    "\n",
    "maxorbs = float(1e9) / 1e6\n",
    "name = system+\"_\"+str(int(np.log10(maxorbs)))+\"_\"+str(id_)\n",
    "\n",
    "sim.integrator = 'whfast'\n",
    "sim.G = 1\n",
    "sim.ri_whfast.safe_mode = 0\n",
    "sim.collision = 'direct'\n",
    "\n",
    "dt = 2.*np.sqrt(3)/100. #0.0346410162\n",
    "P1 = sim.particles[1].P\n",
    "sim.dt = dt*P1 # ~3% orbital period\n",
    "\n",
    "#how long you are willing to simulate this system right now\n",
    "tmax = maxorbs*P1\n",
    "\n",
    "#save simulation archive\n",
    "# dir_path = os.path.dirname(os.path.realpath(__file__)) #directory of this program\n",
    "# out_dir = dir_path+\"/output/\"\n",
    "# os.system('mkdir %s'%out_dir)\n",
    "# sim.automateSimulationArchive(out_dir+'%s_SA.bin'%name, interval=tmax/1000, deletefile=True)\n",
    "\n",
    "#simulate\n",
    "E0 = sim.calculate_energy()\n",
    "world_t0 = time.time()\n",
    "sim_t0 = sim.t\n",
    "\n",
    "#plot system now\n",
    "# fig1 = rebound.OrbitPlot(sim, unitlabel=\"[AU]\", color=True, periastron=True)\n",
    "\n",
    "print(\"starting simulation\")\n",
    "try:\n",
    "    sim.integrate(tmax)\n",
    "    unstable=0\n",
    "except:\n",
    "    unstable=1\n",
    "print(\"finished simulation\")\n",
    "\n",
    "# sf.replace_snapshot(sim, out_dir+'%s_final.bin'%name)\n",
    "\n",
    "Ef = sim.calculate_energy()\n",
    "Eerr = abs((Ef-E0)/E0)\n",
    "\n",
    "#plot system after tmax or when things went to crap\n",
    "# fig2 = rebound.OrbitPlot(sim, unitlabel=\"[AU]\", color=True, periastron=True)\n",
    "\n",
    "orbits = (sim.t - sim_t0) / P1\n",
    "#print the amount of orbits that have occured\n",
    "print(\"%.0f orbits completed\"%(orbits))\n",
    "print(\"%.2f%% of max_orbits\"%(100 * orbits /  maxorbs))\n",
    "print(\"took %.0f s\"%(time.time() - world_t0))\n",
    "\n",
    "# sim = sa.getSimulation(0)\n",
    "# print(sim.t)\n",
    "\n",
    "# sim = sa.getSimulation(sa.tmax, mode=\"close\")\n",
    "# print(sim.t)"
   ]
  },
  {
   "cell_type": "code",
   "execution_count": null,
   "metadata": {},
   "outputs": [],
   "source": []
  }
 ],
 "metadata": {
  "kernelspec": {
   "display_name": "Python 3",
   "language": "python",
   "name": "python3"
  },
  "language_info": {
   "codemirror_mode": {
    "name": "ipython",
    "version": 3
   },
   "file_extension": ".py",
   "mimetype": "text/x-python",
   "name": "python",
   "nbconvert_exporter": "python",
   "pygments_lexer": "ipython3",
   "version": "3.7.1"
  }
 },
 "nbformat": 4,
 "nbformat_minor": 2
}
